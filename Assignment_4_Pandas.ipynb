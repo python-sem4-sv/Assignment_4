{
 "cells": [
  {
   "cell_type": "markdown",
   "metadata": {},
   "source": [
    "## Use pandas dataframe with poverty data\n",
    "Use this source: https://data.worldbank.org/indicator/SI.POV.DDAY and extract the csv file in jupyter notebook.\n",
    "With the help of Pandas' DataFrame do the following\n",
    "1. Create a line graph showing the development in poverty over time in both Argentina, Ivory cost, USA. (be aware of the missing data in particular years)\n",
    "2. Find the 10 countries with the highest poverty rate, and plot the rates in a bar chart\n",
    "3. Show the development of absolute poverty in all the central american countries. Hand in:\n",
    "  1. A description of what graphical representation you think is best for this task\n",
    "    * See this page for inspiration: https://scipy-lectures.org/intro/matplotlib/matplotlib.html\n",
    "  2. The actual graphical representation in a Jupyter Notebook\n",
    "4. From the worldbank api, find one more interesting question you would like to ask. Hand in:\n",
    "  1. A description of why that question is interesting\n",
    "  2. A visualisation of the question in your Jupyter Notebook\n",
    "    * See this page for inspiration: https://scipy-lectures.org/intro/matplotlib/matplotlib.html"
   ]
  },
  {
   "cell_type": "markdown",
   "metadata": {},
   "source": [
    "## Download zip with poverty data and extract files:"
   ]
  },
  {
   "cell_type": "code",
   "execution_count": 5,
   "metadata": {},
   "outputs": [
    {
     "name": "stdout",
     "output_type": "stream",
     "text": [
      "Done\n"
     ]
    }
   ],
   "source": [
    "import pandas as pd\n",
    "import requests\n",
    "import zipfile\n",
    "from glob import glob\n",
    "import subprocess\n",
    "import matplotlib.pyplot as plt\n",
    "import numpy as np\n",
    "\n",
    "\n",
    "#data\n",
    "url = 'http://api.worldbank.org/v2/en/indicator/SI.POV.DDAY?downloadformat=csv'\n",
    "response = requests.get(url)\n",
    "fname = response.headers['Content-Disposition'].split('=')[1]\n",
    "\n",
    "#open file\n",
    "if response.ok:  # status_code == 200:\n",
    "    with open(fname, 'wb') as f:\n",
    "        f.write(response.content)   \n",
    "\n",
    "#unzip\n",
    "zipfile.ZipFile(fname, 'r').extractall('.')\n",
    "\n",
    "\n",
    "#make the file into a variable\n",
    "local_file = glob('./*API_SI*.csv')[0]\n",
    "\n",
    "#dataframe, skip first 4 rows\n",
    "df = pd.read_csv(local_file,skiprows=4)\n",
    "\n",
    "# Since we are getting the output as a byte literal, we have to decode it into string\n",
    "cmd = 'sed 5!d {}'.format(local_file).split()\n",
    "out, err = subprocess.Popen(cmd, stdout=subprocess.PIPE, \n",
    "                            stderr=subprocess.STDOUT).communicate()\n",
    "header_cols = out.splitlines()[0].decode('UTF-8').split(',')\n",
    "header_cols = [h.replace('\"', '') for h in header_cols]\n",
    "        \n",
    "cmd = ['grep', '-E', 'ARG|CIV|USA', local_file]\n",
    "out, err = subprocess.Popen(cmd, stdout=subprocess.PIPE, \n",
    "                            stderr=subprocess.STDOUT).communicate()\n",
    "\n",
    "lines = out.decode('UTF-8').splitlines()\n",
    "lines = [l.split(',') for l in lines]\n",
    "lines = [[c.replace('\"', '') for c in l] for l in lines]\n",
    "\n",
    "print(\"Done\")\n",
    "\n"
   ]
  },
  {
   "cell_type": "markdown",
   "metadata": {},
   "source": [
    "## 1. Create a line graph showing the development in poverty over time in both Argentina, Ivory cost, USA. (be aware of the missing data in particular years):\n"
   ]
  },
  {
   "cell_type": "code",
   "execution_count": 6,
   "metadata": {},
   "outputs": [
    {
     "data": {
      "text/plain": [
       "<matplotlib.axes._subplots.AxesSubplot at 0x7fa3e7921550>"
      ]
     },
     "execution_count": 6,
     "metadata": {},
     "output_type": "execute_result"
    },
    {
     "data": {
      "image/png": "[encoded data removed]",
      "text/plain": [
       "<Figure size 432x288 with 1 Axes>"
      ]
     },
     "metadata": {
      "needs_background": "light"
     },
     "output_type": "display_data"
    }
   ],
   "source": [
    "#Argentina\n",
    "pov_arg = pd.Series(lines[0][4:-1], index=np.asarray(header_cols[4:-1], dtype=float))\n",
    "\n",
    "#Ivory Coast\n",
    "pov_civ = pd.Series(lines[1][4:-1], index=np.asarray(header_cols[4:-1], dtype=float))\n",
    "\n",
    "#USA\n",
    "pov_usa = pd.Series(lines[2][4:-1], index=np.asarray(header_cols[4:-1], dtype=float))\n",
    "\n",
    "#Convert to numeric type\n",
    "pov_arg = pd.to_numeric(pov_arg)\n",
    "pov_civ = pd.to_numeric(pov_civ)\n",
    "pov_usa = pd.to_numeric(pov_usa)\n",
    "\n",
    "#concat arg, civ & usa to same plot, create legend\n",
    "pov = pd.concat([pov_arg.ffill(), pov_civ.ffill(), pov_usa.ffill()], axis=1, keys=['ARG', 'CIV', 'USA'])\n",
    "pov.plot()"
   ]
  },
  {
   "cell_type": "markdown",
   "metadata": {},
   "source": [
    "## 2. Find the 10 countries with the highest poverty rate, and plot the rates in a bar chart\n"
   ]
  },
  {
   "cell_type": "code",
   "execution_count": 7,
   "metadata": {},
   "outputs": [
    {
     "data": {
      "text/plain": [
       "([0, 1, 2, 3, 4, 5, 6, 7, 8, 9], <a list of 10 Text xticklabel objects>)"
      ]
     },
     "execution_count": 7,
     "metadata": {},
     "output_type": "execute_result"
    },
    {
     "data": {
      "image/png": "[encoded data removed]",
      "text/plain": [
       "<Figure size 432x288 with 1 Axes>"
      ]
     },
     "metadata": {
      "needs_background": "light"
     },
     "output_type": "display_data"
    }
   ],
   "source": [
    "#nlargest finds the (10) largest values in column(year == 2016).\n",
    "top10 = df.nlargest(10, \"2016\")\n",
    "countries = top10[\"Country Name\"]\n",
    "country_values = top10.iloc[:][\"2016\"].values\n",
    "\n",
    "plt.title(\"Countries with highest poverty rate in 2016\")\n",
    "plt.bar(countries,country_values)\n",
    "plt.xticks(rotation=90)\n"
   ]
  },
  {
   "cell_type": "markdown",
   "metadata": {},
   "source": [
    "## 3. Show the development of absolute poverty in all the central american countries."
   ]
  },
  {
   "cell_type": "markdown",
   "metadata": {},
   "source": [
    "###   1. A description of what graphical representation you think is best for this task:\n",
    "By displaying the countries in a line graph, we can easily distinguish and compare the different countries and see the yearly trend:\n"
   ]
  },
  {
   "cell_type": "code",
   "execution_count": 12,
   "metadata": {},
   "outputs": [
    {
     "name": "stdout",
     "output_type": "stream",
     "text": [
      "['Argentina', 'ARG', 'Poverty headcount ratio at $1.90 a day (2011 PPP) (% of population)', 'SI.POV.DDAY', '', '', '', '', '', '', '', '', '', '', '', '', '', '', '', '', '', '', '', '', '0.4', '', '', '', '', '', '0', '0', '', '', '', '1.1', '2.1', '2.4', '2.3', '4.1', '4.6', '4.1', '4.6', '4.8', '5.7', '9.4', '14', '7', '5.4', '3.9', '3.3', '2.9', '2.6', '2.6', '1.1', '0.9', '0.8', '0.8', '0.7', '', '0.6', '', '', '']\n",
      "[\"Cote d'Ivoire\", 'CIV', 'Poverty headcount ratio at $1.90 a day (2011 PPP) (% of population)', 'SI.POV.DDAY', '', '', '', '', '', '', '', '', '', '', '', '', '', '', '', '', '', '', '', '', '', '', '', '', '', '6.8', '3.1', '6.8', '10.7', '', '', '', '22.4', '', '', '19.6', '', '', '25.8', '', '', '', '23.2', '', '', '', '', '', '29.1', '', '', '', '', '', '', '28.2', '', '', '', '']\n",
      "['United States', 'USA', 'Poverty headcount ratio at $1.90 a day (2011 PPP) (% of population)', 'SI.POV.DDAY', '', '', '', '', '', '', '', '', '', '', '', '', '', '', '', '', '', '', '', '0.5', '', '', '', '', '', '', '0.5', '', '', '', '', '0.5', '', '', '0.7', '', '', '0.7', '', '', '0.7', '', '', '', '1', '', '', '1', '', '', '1', '', '', '1', '', '', '1.2', '', '', '']\n"
     ]
    },
    {
     "ename": "IndexError",
     "evalue": "list index out of range",
     "output_type": "error",
     "traceback": [
      "\u001b[0;31m---------------------------------------------------------------------------\u001b[0m",
      "\u001b[0;31mIndexError\u001b[0m                                Traceback (most recent call last)",
      "\u001b[0;32m<ipython-input-12-8ebdf92b2d8b>\u001b[0m in \u001b[0;36m<module>\u001b[0;34m\u001b[0m\n\u001b[1;32m     16\u001b[0m \u001b[0;34m\u001b[0m\u001b[0m\n\u001b[1;32m     17\u001b[0m \u001b[0;32mfor\u001b[0m \u001b[0mcountry\u001b[0m \u001b[0;32min\u001b[0m \u001b[0mrange\u001b[0m\u001b[0;34m(\u001b[0m\u001b[0mlen\u001b[0m\u001b[0;34m(\u001b[0m\u001b[0mcentral_america\u001b[0m\u001b[0;34m)\u001b[0m\u001b[0;34m)\u001b[0m\u001b[0;34m:\u001b[0m\u001b[0;34m\u001b[0m\u001b[0;34m\u001b[0m\u001b[0m\n\u001b[0;32m---> 18\u001b[0;31m     \u001b[0mprint\u001b[0m\u001b[0;34m(\u001b[0m\u001b[0mlines\u001b[0m\u001b[0;34m[\u001b[0m\u001b[0mcountry\u001b[0m\u001b[0;34m]\u001b[0m\u001b[0;34m)\u001b[0m\u001b[0;34m\u001b[0m\u001b[0;34m\u001b[0m\u001b[0m\n\u001b[0m\u001b[1;32m     19\u001b[0m     \u001b[0mlines_labels\u001b[0m\u001b[0;34m.\u001b[0m\u001b[0mappend\u001b[0m\u001b[0;34m(\u001b[0m\u001b[0mlines\u001b[0m\u001b[0;34m[\u001b[0m\u001b[0mcountry\u001b[0m\u001b[0;34m]\u001b[0m\u001b[0;34m[\u001b[0m\u001b[0;36m1\u001b[0m\u001b[0;34m]\u001b[0m\u001b[0;34m)\u001b[0m\u001b[0;34m\u001b[0m\u001b[0;34m\u001b[0m\u001b[0m\n\u001b[1;32m     20\u001b[0m     \u001b[0mpov\u001b[0m \u001b[0;34m=\u001b[0m \u001b[0mpd\u001b[0m\u001b[0;34m.\u001b[0m\u001b[0mSeries\u001b[0m\u001b[0;34m(\u001b[0m\u001b[0mlines\u001b[0m\u001b[0;34m[\u001b[0m\u001b[0mcountry\u001b[0m\u001b[0;34m]\u001b[0m\u001b[0;34m[\u001b[0m\u001b[0;36m4\u001b[0m\u001b[0;34m:\u001b[0m\u001b[0;34m-\u001b[0m\u001b[0;36m1\u001b[0m\u001b[0;34m]\u001b[0m\u001b[0;34m,\u001b[0m \u001b[0mindex\u001b[0m\u001b[0;34m=\u001b[0m\u001b[0mnp\u001b[0m\u001b[0;34m.\u001b[0m\u001b[0masarray\u001b[0m\u001b[0;34m(\u001b[0m\u001b[0mheader_cols\u001b[0m\u001b[0;34m[\u001b[0m\u001b[0;36m4\u001b[0m\u001b[0;34m:\u001b[0m\u001b[0;34m-\u001b[0m\u001b[0;36m1\u001b[0m\u001b[0;34m]\u001b[0m\u001b[0;34m,\u001b[0m \u001b[0mdtype\u001b[0m\u001b[0;34m=\u001b[0m\u001b[0mint\u001b[0m\u001b[0;34m)\u001b[0m\u001b[0;34m)\u001b[0m\u001b[0;34m\u001b[0m\u001b[0;34m\u001b[0m\u001b[0m\n",
      "\u001b[0;31mIndexError\u001b[0m: list index out of range"
     ]
    }
   ],
   "source": [
    "#Get lines from central american countries\n",
    "cmd = ['grep', '-E', 'BLZ|CRI|SLV|GTM|HND|NIC|PAN', local_file]\n",
    "out, err = subprocess.Popen(cmd, stdout=subprocess.PIPE, \n",
    "                            stderr=subprocess.STDOUT).communicate()\n",
    "\n",
    "central_america = df[df['Country Code'].isin(['BLZ', 'CRI', 'SLV', 'GTM', 'HND', 'NIC', 'PAN'])]\n",
    "\n",
    "central_america.iloc[2][4:-1]\n",
    "\n",
    "countries = central_america[\"Country Name\"]\n",
    "myMask = central_america[\"Country Name\"] == \"Belize\"\n",
    "central_america.iloc[0][4:-1]\n",
    "\n",
    "lines_labels = []\n",
    "lines_values = []\n",
    "\n",
    "for country in range(len(central_america)):\n",
    "    print(lines[country])\n",
    "    lines_labels.append(lines[country][1])\n",
    "    pov = pd.Series(lines[country][4:-1], index=np.asarray(header_cols[4:-1], dtype=int))\n",
    "    lines_values.append(pd.to_numeric(pov).ffill())\n",
    "\n",
    "# axis=0 is default (concats like sql UNION) axis=1 concats the data along the x axis    \n",
    "povs = pd.concat(lines_values, axis=1, keys=lines_labels)\n",
    "\n",
    "povs.plot()\n"
   ]
  },
  {
   "cell_type": "markdown",
   "metadata": {},
   "source": [
    "## 4. From the worldbank api, find one more interesting question you would like to ask. Hand in:"
   ]
  },
  {
   "cell_type": "code",
   "execution_count": null,
   "metadata": {},
   "outputs": [],
   "source": [
    "#\n",
    "url2 = 'http://api.worldbank.org/v2/en/indicator/SH.ALC.PCAP.LI?downloadformat=csv'\n",
    "response2 = requests.get(url)\n",
    "\n",
    "print(response.headers)\n",
    "afname = response2.headers['Content-Disposition'].split('=')[1]\n",
    "\n",
    "if response.ok:  # status_code == 200:\n",
    "    with open(afname, 'wb') as f:\n",
    "        f.write(response.content)   \n",
    "print('-----------------')\n",
    "print('Downloaded {}'.format(fname))\n",
    "\n",
    "afname = 'API_SH.ALC.PCAP.LI_DS2_en_csv_v2_10477061.zip'\n",
    "zipfile.ZipFile(afname, 'r').extractall('.')\n",
    "from glob import glob\n",
    "# glob is useful in any situation where your program needs to look for a list of files on the filesystem with names matching a pattern. If you need a list of filenames that all have a certain extension, prefix, or any common string in the middle, use glob instead of writing code to scan the directory contents yourself.\n",
    "\n",
    "alocal_file = glob('./*API_SH*.csv')[0]\n",
    "alocal_file"
   ]
  },
  {
   "cell_type": "code",
   "execution_count": null,
   "metadata": {},
   "outputs": [],
   "source": [
    "#Total alcohol consumption per capita (liters of pure alcohol, projected estimates, 15+ years of age)\n",
    "alcohol_file = pd.read_csv(local_file, skiprows=4)\n",
    "top_x = alcohol_file.nlargest(10,'2016')\n",
    "dk = alcohol_file[(alcohol_file['Country Name'] == 'Denmark')][\"2016\"]\n",
    "country_labels = list(top_x['Country Name'].values)\n",
    "country_labels.append('DNK')\n",
    "country_values = list(top_x['2016'].values)\n",
    "country_values.append(float(dk))"
   ]
  },
  {
   "cell_type": "code",
   "execution_count": null,
   "metadata": {},
   "outputs": [],
   "source": [
    "import matplotlib.pyplot as plt\n",
    " \n",
    "# Data to plot\n",
    "labels = country_labels\n",
    "sizes = country_values\n",
    " \n",
    "# Plot\n",
    "plt.bar(labels, sizes)\n",
    "plt.title(\"Total alcohol consumption per capita in 2016\")\n",
    "plt.ylabel(\"Liters of pure alcohol\")\n",
    "plt.xlabel(\"Countries\")\n",
    "plt.xticks(rotation=90)\n",
    "plt.show()"
   ]
  }
 ],
 "metadata": {
  "kernelspec": {
   "display_name": "Python 3",
   "language": "python",
   "name": "python3"
  },
  "language_info": {
   "codemirror_mode": {
    "name": "ipython",
    "version": 3
   },
   "file_extension": ".py",
   "mimetype": "text/x-python",
   "name": "python",
   "nbconvert_exporter": "python",
   "pygments_lexer": "ipython3",
   "version": "3.7.1"
  }
 },
 "nbformat": 4,
 "nbformat_minor": 2
}
