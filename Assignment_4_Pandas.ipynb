{
 "cells": [
  {
   "cell_type": "markdown",
   "metadata": {},
   "source": [
    "## Use pandas dataframe with poverty data\n",
    "Use this source: https://data.worldbank.org/indicator/SI.POV.DDAY and extract the csv file in jupyter notebook.\n",
    "With the help of Pandas' DataFrame do the following\n",
    "1. Create a line graph showing the development in poverty over time in both Argentina, Ivory cost, USA. (be aware of the missing data in particular years)\n",
    "2. Find the 10 countries with the highest poverty rate, and plot the rates in a bar chart\n",
    "3. Show the development of absolute poverty in all the central american countries. Hand in:\n",
    "  1. A description of what graphical representation you think is best for this task\n",
    "    * See this page for inspiration: https://scipy-lectures.org/intro/matplotlib/matplotlib.html\n",
    "  2. The actual graphical representation in a Jupyter Notebook\n",
    "4. From the worldbank api, find one more interesting question you would like to ask. Hand in:\n",
    "  1. A description of why that question is interesting\n",
    "  2. A visualisation of the question in your Jupyter Notebook\n",
    "    * See this page for inspiration: https://scipy-lectures.org/intro/matplotlib/matplotlib.html"
   ]
  },
  {
   "cell_type": "markdown",
   "metadata": {},
   "source": [
    "## Download zip with poverty data and extract files:"
   ]
  },
  {
   "cell_type": "code",
   "execution_count": null,
   "metadata": {},
   "outputs": [],
   "source": [
    "import pandas as pd\n",
    "import requests\n",
    "import zipfile\n",
    "from glob import glob\n",
    "import subprocess\n",
    "import matplotlib.pyplot as plt\n",
    "import numpy as np\n",
    "\n",
    "\n",
    "#data\n",
    "url = 'http://api.worldbank.org/v2/en/indicator/SI.POV.DDAY?downloadformat=csv'\n",
    "response = requests.get(url)\n",
    "fname = response.headers['Content-Disposition'].split('=')[1]\n",
    "\n",
    "#open file\n",
    "if response.ok:  # status_code == 200:\n",
    "    with open(fname, 'wb') as f:\n",
    "        f.write(response.content)   \n",
    "\n",
    "#unzip\n",
    "zipfile.ZipFile(fname, 'r').extractall('.')\n",
    "\n",
    "\n",
    "#make the file into a variable\n",
    "local_file = glob('./API_SI.POV.DDAY_DS2_en_csv_v2_10474275.csv')[0]\n",
    "print(local_file)\n",
    "#dataframe, skip first 4 rows\n",
    "df = pd.read_csv(local_file,skiprows=4)\n",
    "\n",
    "# Since we are getting the output as a byte literal, we have to decode it into string\n",
    "cmd = 'sed 5!d {}'.format(local_file).split()\n",
    "out, err = subprocess.Popen(cmd, stdout=subprocess.PIPE, \n",
    "                            stderr=subprocess.STDOUT).communicate()\n",
    "header_cols = out.splitlines()[0].decode('UTF-8').split(',')\n",
    "header_cols = [h.replace('\"', '') for h in header_cols]\n",
    "        \n",
    "cmd = ['grep', '-E', 'ARG|CIV|USA', local_file]\n",
    "out, err = subprocess.Popen(cmd, stdout=subprocess.PIPE, \n",
    "                            stderr=subprocess.STDOUT).communicate()\n",
    "\n",
    "lines = out.decode('UTF-8').splitlines()\n",
    "lines = [l.split(',') for l in lines]\n",
    "lines = [[c.replace('\"', '') for c in l] for l in lines]\n",
    "\n",
    "print(\"Done\")\n",
    "\n"
   ]
  },
  {
   "cell_type": "markdown",
   "metadata": {},
   "source": [
    "## 1. Create a line graph showing the development in poverty over time in both Argentina, Ivory cost, USA. (be aware of the missing data in particular years):\n"
   ]
  },
  {
   "cell_type": "code",
   "execution_count": null,
   "metadata": {},
   "outputs": [],
   "source": [
    "#Argentina\n",
    "pov_arg = pd.Series(lines[0][4:-1], index=np.asarray(header_cols[4:-1], dtype=float))\n",
    "\n",
    "#Ivory Coast\n",
    "pov_civ = pd.Series(lines[1][4:-1], index=np.asarray(header_cols[4:-1], dtype=float))\n",
    "\n",
    "#USA\n",
    "pov_usa = pd.Series(lines[2][4:-1], index=np.asarray(header_cols[4:-1], dtype=float))\n",
    "\n",
    "#Convert to numeric type\n",
    "pov_arg = pd.to_numeric(pov_arg)\n",
    "pov_civ = pd.to_numeric(pov_civ)\n",
    "pov_usa = pd.to_numeric(pov_usa)\n",
    "\n",
    "#concat arg, civ & usa to same plot, create legend\n",
    "pov = pd.concat([pov_arg.ffill(), pov_civ.ffill(), pov_usa.ffill()], axis=1, keys=['ARG', 'CIV', 'USA'])\n",
    "pov.plot()"
   ]
  },
  {
   "cell_type": "markdown",
   "metadata": {},
   "source": [
    "## 2. Find the 10 countries with the highest poverty rate, and plot the rates in a bar chart\n"
   ]
  },
  {
   "cell_type": "code",
   "execution_count": null,
   "metadata": {},
   "outputs": [],
   "source": [
    "#nlargest finds the (10) largest values in column(year == 2016).\n",
    "top10 = df.nlargest(10, \"2016\")\n",
    "countries = top10[\"Country Name\"]\n",
    "country_values = top10.iloc[:][\"2016\"].values\n",
    "\n",
    "plt.title(\"Countries with highest poverty rate in 2016\")\n",
    "plt.bar(countries,country_values)\n",
    "plt.xticks(rotation=90)\n"
   ]
  },
  {
   "cell_type": "markdown",
   "metadata": {},
   "source": [
    "## 3. Show the development of absolute poverty in all the central american countries."
   ]
  },
  {
   "cell_type": "markdown",
   "metadata": {},
   "source": [
    "###   1. A description of what graphical representation you think is best for this task:\n",
    "By displaying the countries in a line graph, we can easily distinguish and compare the different countries and see the yearly trend:\n"
   ]
  },
  {
   "cell_type": "code",
   "execution_count": null,
   "metadata": {},
   "outputs": [],
   "source": [
    "cmd = ['grep', '-E', 'BLZ|CRI|SLV|GTM|HND|NIC|PAN', local_file]\n",
    "out, err = subprocess.Popen(cmd, stdout=subprocess.PIPE, \n",
    "                            stderr=subprocess.STDOUT).communicate()\n",
    "\n",
    "lines = out.decode('UTF-8').splitlines()\n",
    "lines = [l.split(',') for l in lines]\n",
    "lines = [[c.replace('\"', '') for c in l] for l in lines]\n",
    "\n",
    "cmd = 'sed 5!d {}'.format(local_file).split()\n",
    "out, err = subprocess.Popen(cmd, stdout=subprocess.PIPE, \n",
    "                            stderr=subprocess.STDOUT).communicate()\n",
    "\n",
    "# Since we are getting the output as a byte literal, we have to decode it into string\n",
    "header_cols = out.splitlines()[0].decode('UTF-8').split(',')\n",
    "header_cols = [h.replace('\"', '') for h in header_cols]\n",
    "\n",
    "central_america = df[df['Country Code'].isin(['BLZ', 'CRI', 'SLV', 'GTM', 'HND', 'NIC', 'PAN'])]\n",
    "\n",
    "central_america.iloc[2][4:-1]\n",
    "\n",
    "countries = central_america[\"Country Name\"]\n",
    "myMask = central_america[\"Country Name\"] == \"Belize\"\n",
    "central_america.iloc[0][4:-1]\n",
    "\n",
    "lines_labels = []\n",
    "lines_values = []\n",
    "\n",
    "for country in range(len(central_america)):\n",
    "    lines_labels.append(lines[country][1])\n",
    "    pov = pd.Series(lines[country][4:-1], index=np.asarray(header_cols[4:-1], dtype=int))\n",
    "    lines_values.append(pd.to_numeric(pov).ffill())\n",
    "\n",
    "# axis=0 is default (concats like sql UNION) axis=1 concats the data along the x axis    \n",
    "povs = pd.concat(lines_values, axis=1, keys=lines_labels)\n",
    "\n",
    "povs.plot()"
   ]
  },
  {
   "cell_type": "markdown",
   "metadata": {},
   "source": [
    "## 4. From the worldbank api, find one more interesting question you would like to ask. Hand in:"
   ]
  },
  {
   "cell_type": "code",
   "execution_count": null,
   "metadata": {},
   "outputs": [],
   "source": [
    "import requests\n",
    "import zipfile\n",
    "import pandas as pd\n",
    "url = 'http://api.worldbank.org/v2/en/indicator/SH.ALC.PCAP.LI?downloadformat=csv'\n",
    "response = requests.get(url)\n",
    "\n",
    "print(response.headers)\n",
    "fname = response.headers['Content-Disposition'].split('=')[1]\n",
    "\n",
    "if response.ok:  # status_code == 200:\n",
    "    with open(fname, 'wb') as f:\n",
    "        f.write(response.content)   \n",
    "print('-----------------')\n",
    "print('Downloaded {}'.format(fname))\n",
    "\n",
    "fname = 'API_SH.ALC.PCAP.LI_DS2_en_csv_v2_10477061.zip'\n",
    "zipfile.ZipFile(fname, 'r').extractall('.')\n",
    "from glob import glob\n",
    "# glob is useful in any situation where your program needs to look for a list of files on the filesystem with names matching a pattern. If you need a list of filenames that all have a certain extension, prefix, or any common string in the middle, use glob instead of writing code to scan the directory contents yourself.\n",
    "\n",
    "local_file = glob('./*API_SH*.csv')[0]\n",
    "local_file"
   ]
  },
  {
   "cell_type": "code",
   "execution_count": null,
   "metadata": {},
   "outputs": [],
   "source": [
    "#Total alcohol consumption per capita (liters of pure alcohol, projected estimates, 15+ years of age)\n",
    "alcohol_file = pd.read_csv(local_file, skiprows=4)\n",
    "top_x = alcohol_file.nlargest(10,'2016')\n",
    "dk = alcohol_file[(alcohol_file['Country Name'] == 'Denmark')][\"2016\"]\n",
    "country_labels = list(top_x['Country Name'].values)\n",
    "country_labels.append('DNK')\n",
    "country_values = list(top_x['2016'].values)\n",
    "country_values.append(float(dk))"
   ]
  },
  {
   "cell_type": "code",
   "execution_count": null,
   "metadata": {},
   "outputs": [],
   "source": [
    "import matplotlib.pyplot as plt\n",
    " \n",
    "# Data to plot\n",
    "alabels = country_labels\n",
    "sizes = country_values\n",
    " \n",
    "# Plot\n",
    "plt.bar(alabels, sizes)\n",
    "plt.title(\"Total alcohol consumption per capita in 2016\")\n",
    "plt.ylabel(\"Liters of pure alcohol\")\n",
    "plt.xlabel(\"Countries\")\n",
    "plt.xticks(rotation=90)\n",
    "plt.show()"
   ]
  }
 ],
 "metadata": {
  "kernelspec": {
   "display_name": "Python 3",
   "language": "python",
   "name": "python3"
  },
  "language_info": {
   "codemirror_mode": {
    "name": "ipython",
    "version": 3
   },
   "file_extension": ".py",
   "mimetype": "text/x-python",
   "name": "python",
   "nbconvert_exporter": "python",
   "pygments_lexer": "ipython3",
   "version": "3.7.1"
  }
 },
 "nbformat": 4,
 "nbformat_minor": 2
}
